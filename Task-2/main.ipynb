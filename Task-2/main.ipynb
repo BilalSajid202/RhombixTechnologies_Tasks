{
 "cells": [
  {
   "cell_type": "code",
   "execution_count": 1,
   "metadata": {},
   "outputs": [
    {
     "name": "stderr",
     "output_type": "stream",
     "text": [
      "<>:9: SyntaxWarning: invalid escape sequence '\\I'\n",
      "<>:9: SyntaxWarning: invalid escape sequence '\\I'\n",
      "C:\\Users\\Dell\\AppData\\Local\\Temp\\ipykernel_18556\\3530190559.py:9: SyntaxWarning: invalid escape sequence '\\I'\n",
      "  file_path = \"D:\\Internship\\Task-2\\predictive_maintenance.csv\"\n"
     ]
    },
    {
     "name": "stdout",
     "output_type": "stream",
     "text": [
      "Non-numeric columns detected: Index(['Type'], dtype='object')\n",
      "Classification Report:\n",
      "               precision    recall  f1-score   support\n",
      "\n",
      "           0       0.99      1.00      0.99      1930\n",
      "           1       0.93      0.60      0.73        70\n",
      "\n",
      "    accuracy                           0.98      2000\n",
      "   macro avg       0.96      0.80      0.86      2000\n",
      "weighted avg       0.98      0.98      0.98      2000\n",
      "\n",
      "Confusion Matrix:\n",
      " [[1927    3]\n",
      " [  28   42]]\n"
     ]
    }
   ],
   "source": [
    "import pandas as pd\n",
    "import numpy as np\n",
    "from sklearn.preprocessing import StandardScaler\n",
    "from sklearn.model_selection import train_test_split\n",
    "from sklearn.ensemble import RandomForestClassifier\n",
    "from sklearn.metrics import classification_report, confusion_matrix\n",
    "\n",
    "# Load the dataset\n",
    "file_path = \"D:\\Internship\\Task-2\\predictive_maintenance.csv\"\n",
    "data = pd.read_csv(file_path)\n",
    "\n",
    "# Define the target column\n",
    "target_column = 'Target'\n",
    "\n",
    "# Validate the target column\n",
    "if target_column not in data.columns:\n",
    "    raise KeyError(f\"Column '{target_column}' not found in the dataset.\")\n",
    "\n",
    "# Drop non-relevant columns\n",
    "data.drop(columns=['UDI', 'Product ID', 'Failure Type'], inplace=True, errors='ignore')\n",
    "\n",
    "# Rolling statistics for additional features\n",
    "features_to_roll = ['Air temperature [K]', 'Process temperature [K]', 'Rotational speed [rpm]', 'Torque [Nm]']\n",
    "for feature in features_to_roll:\n",
    "    data[f'{feature}_rolling_mean'] = data[feature].rolling(window=5).mean()\n",
    "    data[f'{feature}_rolling_std'] = data[feature].rolling(window=5).std()\n",
    "    data[f'{feature}_rolling_min'] = data[feature].rolling(window=5).min()\n",
    "    data[f'{feature}_rolling_max'] = data[feature].rolling(window=5).max()\n",
    "\n",
    "# Rate of change for key features\n",
    "for feature in features_to_roll:\n",
    "    data[f'{feature}_rate_of_change'] = data[feature].diff()\n",
    "\n",
    "# Interaction features\n",
    "data['torque_speed_interaction'] = data['Torque [Nm]'] * data['Rotational speed [rpm]']\n",
    "data['temperature_ratio'] = data['Process temperature [K]'] / data['Air temperature [K]']\n",
    "\n",
    "# Cumulative metrics\n",
    "data['cumulative_tool_wear'] = data['Tool wear [min]'].cumsum()\n",
    "\n",
    "# Drop rows with NaN values introduced by rolling and lagging operations\n",
    "data.dropna(inplace=True)\n",
    "\n",
    "# Define features (X) and target (y)\n",
    "X = data.drop(columns=[target_column])\n",
    "y = data[target_column]\n",
    "\n",
    "# Check and handle non-numeric columns in X\n",
    "non_numeric_columns = X.select_dtypes(include=['object', 'category']).columns\n",
    "if len(non_numeric_columns) > 0:\n",
    "    print(f\"Non-numeric columns detected: {non_numeric_columns}\")\n",
    "    # Convert categorical columns to numeric using one-hot encoding\n",
    "    X = pd.get_dummies(X, columns=non_numeric_columns, drop_first=True)\n",
    "\n",
    "# Standardize numerical features\n",
    "scaler = StandardScaler()\n",
    "numerical_features = X.select_dtypes(include=['float64', 'int64']).columns\n",
    "X[numerical_features] = scaler.fit_transform(X[numerical_features])\n",
    "\n",
    "# Split data into training and testing sets\n",
    "X_train, X_test, y_train, y_test = train_test_split(X, y, test_size=0.2, random_state=42)\n",
    "\n",
    "# Initialize and train the RandomForest model\n",
    "clf = RandomForestClassifier(random_state=42)\n",
    "clf.fit(X_train, y_train)\n",
    "\n",
    "# Predictions and evaluation\n",
    "y_pred = clf.predict(X_test)\n",
    "print(\"Classification Report:\\n\", classification_report(y_test, y_pred))\n",
    "print(\"Confusion Matrix:\\n\", confusion_matrix(y_test, y_pred))\n"
   ]
  },
  {
   "cell_type": "code",
   "execution_count": null,
   "metadata": {},
   "outputs": [],
   "source": []
  },
  {
   "cell_type": "code",
   "execution_count": null,
   "metadata": {},
   "outputs": [],
   "source": []
  }
 ],
 "metadata": {
  "kernelspec": {
   "display_name": "Bilal-2.0",
   "language": "python",
   "name": "python3"
  },
  "language_info": {
   "codemirror_mode": {
    "name": "ipython",
    "version": 3
   },
   "file_extension": ".py",
   "mimetype": "text/x-python",
   "name": "python",
   "nbconvert_exporter": "python",
   "pygments_lexer": "ipython3",
   "version": "3.12.4"
  }
 },
 "nbformat": 4,
 "nbformat_minor": 2
}
